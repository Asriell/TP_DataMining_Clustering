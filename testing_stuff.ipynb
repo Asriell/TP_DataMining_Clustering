{
 "cells": [
  {
   "cell_type": "markdown",
   "id": "7f20ef1b",
   "metadata": {},
   "source": [
    "# TP_Clustering\n",
    "\n",
    "##### Imports"
   ]
  },
  {
   "cell_type": "code",
   "execution_count": null,
   "id": "f0c30cb4",
   "metadata": {},
   "outputs": [],
   "source": [
    "import numpy as np\n",
    "np.set_printoptions(threshold=10000,suppress=True)\n",
    "import pandas as pd\n",
    "import warnings\n",
    "import matplotlib.pyplot as plt\n",
    "from sklearn.cluster import DBSCAN\n",
    "from matplotlib import cm\n",
    "warnings.filterwarnings('ignore')"
   ]
  },
  {
   "cell_type": "markdown",
   "id": "9deef6b8",
   "metadata": {},
   "source": [
    "##### Chargement des données"
   ]
  },
  {
   "cell_type": "code",
   "execution_count": null,
   "id": "eb791412",
   "metadata": {},
   "outputs": [],
   "source": [
    "datas = pd.read_csv('./flickr_data.csv', sep=',', error_bad_lines=False)\n",
    "X = datas.values\n",
    "print(datas.head(4))"
   ]
  },
  {
   "cell_type": "markdown",
   "id": "8b4490cb",
   "metadata": {},
   "source": [
    "### Prétraitements"
   ]
  },
  {
   "cell_type": "code",
   "execution_count": null,
   "id": "fb53b8f8",
   "metadata": {},
   "outputs": [],
   "source": [
    "print(datas.shape)\n",
    "datas = datas.drop_duplicates()\n",
    "print(datas.shape)\n",
    "datas_numpy = datas.values\n",
    "tags = datas[\" tags\"]\n",
    "X=[]\n",
    "\n",
    "for index in range(0,len(tags)):\n",
    "    print(index)\n",
    "    try :\n",
    "        line = str(tags[index]).split(\",\")\n",
    "    except KeyError: \n",
    "        continue\n",
    "    else :\n",
    "        if \"lyon\" in line:\n",
    "            X.append(datas_numpy[index])\n",
    "X = np.array(X)\n",
    "datas = pd.DataFrame(data=X, columns=datas.columns)\n",
    "print(datas.head)"
   ]
  },
  {
   "cell_type": "code",
   "execution_count": 35,
   "id": "9487d89a-94c4-40aa-b0da-198f92fe96ea",
   "metadata": {},
   "outputs": [],
   "source": [
    "datas.columns = datas.columns.str.replace(' ','')"
   ]
  },
  {
   "cell_type": "code",
   "execution_count": 36,
   "id": "77709c6d",
   "metadata": {},
   "outputs": [
    {
     "name": "stdout",
     "output_type": "stream",
     "text": [
      "(4.48064, 5.209128, 45.521988, 46.00843)\n"
     ]
    }
   ],
   "source": [
    "BBox = ((datas.long.min(), datas.long.max(), datas.lat.min(), datas.lat.max()))\n",
    "print(BBox)"
   ]
  },
  {
   "cell_type": "markdown",
   "id": "0697f053",
   "metadata": {},
   "source": [
    "#### La Visualisation"
   ]
  },
  {
   "cell_type": "code",
   "execution_count": null,
   "id": "9c4195be",
   "metadata": {},
   "outputs": [],
   "source": [
    "carte = plt.imread('./map.png')\n",
    "fig, ax = plt.subplots(figsize = (16,14))\n",
    "ax.scatter(datas[\" long\"], datas[\" lat\"], zorder=1, alpha= 0.2, c='b', s=10)\n",
    "ax.set_title('Carte de l\\'agglomeration lyonnaise')\n",
    "ax.set_xlim(BBox[0],BBox[1])\n",
    "ax.set_ylim(BBox[2],BBox[3])\n",
    "ax.imshow(carte, zorder=0, extent = BBox, aspect= 'equal')"
   ]
  },
  {
   "cell_type": "markdown",
   "id": "fbf013a2",
   "metadata": {},
   "source": [
    "#### Le clustering"
   ]
  },
  {
   "cell_type": "markdown",
   "id": "717656b1",
   "metadata": {},
   "source": [
    "> On ne peut pas utiliser les K-Means, on ne connait pas le nombre de clusters. On va utiliser un algorithme qui se base sur la densité : DBSCAN."
   ]
  },
  {
   "cell_type": "code",
   "execution_count": null,
   "id": "6451f8ae",
   "metadata": {},
   "outputs": [],
   "source": [
    "dbscan = DBSCAN(eps=0.0001, min_samples=10)\n",
    "lat = datas.iloc[:,2:3].values\n",
    "long = datas.iloc[:,3:4].values\n",
    "locations = datas.iloc[:,2:4].values\n",
    "print(locations.shape)\n",
    "clustering = dbscan.fit(locations)\n",
    "print(clustering.labels_)"
   ]
  },
  {
   "cell_type": "markdown",
   "id": "642329af",
   "metadata": {},
   "source": [
    "#### Visualisation du clustering"
   ]
  },
  {
   "cell_type": "code",
   "execution_count": null,
   "id": "98341717",
   "metadata": {},
   "outputs": [],
   "source": [
    "print(long.shape)\n",
    "print(lat.shape)\n",
    "print(clustering.labels_.shape)\n",
    "\n",
    "ResultDict = {}\n",
    "ResultDictLong = {}\n",
    "ResultDictLat = {}\n",
    "for index in range(0,len(clustering.labels_)):\n",
    "    if not clustering.labels_[index] in ResultDict:\n",
    "        ResultDict[clustering.labels_[index]] = []\n",
    "        ResultDictLong[clustering.labels_[index]] = []\n",
    "        ResultDictLat[clustering.labels_[index]] = []\n",
    "    ResultDict[clustering.labels_[index]].append(np.array([long[index][0],lat[index][0]]))\n",
    "    ResultDictLong[clustering.labels_[index]].append(long[index][0])\n",
    "    ResultDictLat[clustering.labels_[index]].append(lat[index][0])\n",
    "print(ResultDictLat[0])\n",
    "print(ResultDict.keys())\n",
    "print(ResultDictLong.keys())\n",
    "print(ResultDictLat.keys())\n",
    "print(ResultDict)"
   ]
  },
  {
   "cell_type": "code",
   "execution_count": null,
   "id": "9057ef1b",
   "metadata": {},
   "outputs": [],
   "source": [
    "colors = cm.rainbow(np.linspace(0, 1, len(ResultDict.keys())))\n",
    "\n",
    "colorsDict = {}\n",
    "index = 0\n",
    "for key in ResultDict:\n",
    "    colorsDict[key] = colors[index]\n",
    "    index +=1\n",
    "\n",
    "print(colors)\n",
    "print(colorsDict)"
   ]
  },
  {
   "cell_type": "code",
   "execution_count": null,
   "id": "67e0d162",
   "metadata": {},
   "outputs": [],
   "source": [
    "\n",
    "carte = plt.imread('./map.png')\n",
    "fig, ax = plt.subplots(figsize = (16,14))\n",
    "for key in ResultDict:\n",
    "    ax.scatter(ResultDictLong[key], ResultDictLat[key], zorder=1, alpha= 0.2, color=colorsDict[key], s=10)\n",
    "ax.set_title('Carte de l\\'agglomeration lyonnaise')\n",
    "ax.set_xlim(BBox[0],BBox[1])\n",
    "ax.set_ylim(BBox[2],BBox[3])\n",
    "ax.imshow(carte, zorder=0, extent = BBox, aspect= 'equal')"
   ]
  },
  {
   "cell_type": "code",
   "execution_count": null,
   "id": "3e8f79de",
   "metadata": {},
   "outputs": [],
   "source": [
    "import pysubgroup as ps"
   ]
  },
  {
   "cell_type": "markdown",
   "id": "088ba762-8d31-448b-86e4-38046f12518e",
   "metadata": {},
   "source": []
  },
  {
   "cell_type": "code",
   "execution_count": 47,
   "id": "4be0357d-5d7d-46d5-b2c4-2cfe3b15b8e4",
   "metadata": {},
   "outputs": [],
   "source": [
    "class StrContainsSelector:\n",
    "    def __init__(self, column, substr):\n",
    "        self.column = column\n",
    "        self.substr = substr\n",
    "\n",
    "    def covers(self, df):\n",
    "        return df[self.column].str.contains(self.substr).to_numpy()\n",
    "\n",
    "contains_selector = StrContainsSelector('tags','Lyon')"
   ]
  },
  {
   "cell_type": "code",
   "execution_count": 61,
   "id": "a672c437-0505-45be-bb60-7bf3ea7acd54",
   "metadata": {},
   "outputs": [],
   "source": [
    "data = datas\n",
    "\n",
    "target = ps.BinaryTarget('date_upload_hour','9')\n",
    "searchspace = ps.create_selectors(data, ignore=['date_upload_hour'])\n",
    "task = ps.SubgroupDiscoveryTask (\n",
    "    data, \n",
    "    target, \n",
    "    searchspace, \n",
    "    result_set_size=5, \n",
    "    depth=2, \n",
    "    qf=ps.WRAccQF())\n",
    "result = ps.BeamSearch().execute(task)"
   ]
  },
  {
   "cell_type": "code",
   "execution_count": 62,
   "id": "2a74e2b1-e342-48dc-96bb-2efd80eba10e",
   "metadata": {},
   "outputs": [
    {
     "name": "stdout",
     "output_type": "stream",
     "text": [
      "   quality subgroup  size_sg  size_dataset  positives_sg  positives_dataset  \\\n",
      "0      0.0  Dataset   1756.0        1756.0           0.0                0.0   \n",
      "\n",
      "   size_complement  relative_size_sg  relative_size_complement  coverage_sg  \\\n",
      "0              0.0               1.0                       0.0          NaN   \n",
      "\n",
      "   coverage_complement  target_share_sg  target_share_complement  \\\n",
      "0                  NaN              0.0                      NaN   \n",
      "\n",
      "   target_share_dataset  lift  \n",
      "0                   0.0   NaN  \n"
     ]
    }
   ],
   "source": [
    "print(result.to_dataframe())"
   ]
  },
  {
   "cell_type": "code",
   "execution_count": 57,
   "id": "f4a6cf46-53f4-459c-abe5-95cfb1582e61",
   "metadata": {},
   "outputs": [
    {
     "data": {
      "text/html": [
       "<div>\n",
       "<style scoped>\n",
       "    .dataframe tbody tr th:only-of-type {\n",
       "        vertical-align: middle;\n",
       "    }\n",
       "\n",
       "    .dataframe tbody tr th {\n",
       "        vertical-align: top;\n",
       "    }\n",
       "\n",
       "    .dataframe thead th {\n",
       "        text-align: right;\n",
       "    }\n",
       "</style>\n",
       "<table border=\"1\" class=\"dataframe\">\n",
       "  <thead>\n",
       "    <tr style=\"text-align: right;\">\n",
       "      <th></th>\n",
       "      <th>id</th>\n",
       "      <th>user</th>\n",
       "      <th>lat</th>\n",
       "      <th>long</th>\n",
       "      <th>tags</th>\n",
       "      <th>title</th>\n",
       "      <th>date_taken_minute</th>\n",
       "      <th>date_taken_hour</th>\n",
       "      <th>date_taken_day</th>\n",
       "      <th>date_taken_month</th>\n",
       "      <th>date_taken_year</th>\n",
       "      <th>date_upload_minute</th>\n",
       "      <th>date_upload_hour</th>\n",
       "      <th>date_upload_day</th>\n",
       "      <th>date_upload_month</th>\n",
       "      <th>date_upload_year</th>\n",
       "    </tr>\n",
       "  </thead>\n",
       "  <tbody>\n",
       "    <tr>\n",
       "      <th>0</th>\n",
       "      <td>23243740796</td>\n",
       "      <td>129394312@N07</td>\n",
       "      <td>45.763429</td>\n",
       "      <td>4.849875</td>\n",
       "      <td>france,architecture,lyon,offices,appartments,i...</td>\n",
       "      <td>InCity, Lyon, France, 2015</td>\n",
       "      <td>11</td>\n",
       "      <td>16</td>\n",
       "      <td>7</td>\n",
       "      <td>9</td>\n",
       "      <td>2015</td>\n",
       "      <td>21</td>\n",
       "      <td>9</td>\n",
       "      <td>24</td>\n",
       "      <td>11</td>\n",
       "      <td>2015</td>\n",
       "    </tr>\n",
       "    <tr>\n",
       "      <th>1</th>\n",
       "      <td>22642697483</td>\n",
       "      <td>19710808@N05</td>\n",
       "      <td>45.739289</td>\n",
       "      <td>4.814243</td>\n",
       "      <td>orange,building,architecture,lyon,edificio,arc...</td>\n",
       "      <td>NaN</td>\n",
       "      <td>29</td>\n",
       "      <td>12</td>\n",
       "      <td>25</td>\n",
       "      <td>6</td>\n",
       "      <td>2015</td>\n",
       "      <td>12</td>\n",
       "      <td>9</td>\n",
       "      <td>24</td>\n",
       "      <td>11</td>\n",
       "      <td>2015</td>\n",
       "    </tr>\n",
       "    <tr>\n",
       "      <th>2</th>\n",
       "      <td>22864095577</td>\n",
       "      <td>36030103@N07</td>\n",
       "      <td>45.76768</td>\n",
       "      <td>4.833426</td>\n",
       "      <td>horses,france,statue,canon,square,lyon,t3i,600...</td>\n",
       "      <td>Lyon 3</td>\n",
       "      <td>45</td>\n",
       "      <td>1</td>\n",
       "      <td>31</td>\n",
       "      <td>10</td>\n",
       "      <td>2015</td>\n",
       "      <td>54</td>\n",
       "      <td>23</td>\n",
       "      <td>23</td>\n",
       "      <td>11</td>\n",
       "      <td>2015</td>\n",
       "    </tr>\n",
       "    <tr>\n",
       "      <th>3</th>\n",
       "      <td>22886328439</td>\n",
       "      <td>47009524@N04</td>\n",
       "      <td>45.766411</td>\n",
       "      <td>4.82865</td>\n",
       "      <td>france,lyon,rhonealpes</td>\n",
       "      <td>20150821-Canon EOS 6D-5405</td>\n",
       "      <td>57</td>\n",
       "      <td>19</td>\n",
       "      <td>21</td>\n",
       "      <td>8</td>\n",
       "      <td>2015</td>\n",
       "      <td>10</td>\n",
       "      <td>21</td>\n",
       "      <td>23</td>\n",
       "      <td>11</td>\n",
       "      <td>2015</td>\n",
       "    </tr>\n",
       "    <tr>\n",
       "      <th>4</th>\n",
       "      <td>22625834324</td>\n",
       "      <td>47009524@N04</td>\n",
       "      <td>45.76613</td>\n",
       "      <td>4.830411</td>\n",
       "      <td>france,lyon,rhonealpes</td>\n",
       "      <td>20150821-Canon EOS 6D-5417</td>\n",
       "      <td>9</td>\n",
       "      <td>20</td>\n",
       "      <td>21</td>\n",
       "      <td>8</td>\n",
       "      <td>2015</td>\n",
       "      <td>10</td>\n",
       "      <td>21</td>\n",
       "      <td>23</td>\n",
       "      <td>11</td>\n",
       "      <td>2015</td>\n",
       "    </tr>\n",
       "  </tbody>\n",
       "</table>\n",
       "</div>"
      ],
      "text/plain": [
       "            id           user        lat      long  \\\n",
       "0  23243740796  129394312@N07  45.763429  4.849875   \n",
       "1  22642697483   19710808@N05  45.739289  4.814243   \n",
       "2  22864095577   36030103@N07   45.76768  4.833426   \n",
       "3  22886328439   47009524@N04  45.766411   4.82865   \n",
       "4  22625834324   47009524@N04   45.76613  4.830411   \n",
       "\n",
       "                                                tags  \\\n",
       "0  france,architecture,lyon,offices,appartments,i...   \n",
       "1  orange,building,architecture,lyon,edificio,arc...   \n",
       "2  horses,france,statue,canon,square,lyon,t3i,600...   \n",
       "3                             france,lyon,rhonealpes   \n",
       "4                             france,lyon,rhonealpes   \n",
       "\n",
       "                        title date_taken_minute date_taken_hour  \\\n",
       "0  InCity, Lyon, France, 2015                11              16   \n",
       "1                         NaN                29              12   \n",
       "2                      Lyon 3                45               1   \n",
       "3  20150821-Canon EOS 6D-5405                57              19   \n",
       "4  20150821-Canon EOS 6D-5417                 9              20   \n",
       "\n",
       "  date_taken_day date_taken_month date_taken_year date_upload_minute  \\\n",
       "0              7                9            2015                 21   \n",
       "1             25                6            2015                 12   \n",
       "2             31               10            2015                 54   \n",
       "3             21                8            2015                 10   \n",
       "4             21                8            2015                 10   \n",
       "\n",
       "  date_upload_hour date_upload_day date_upload_month date_upload_year  \n",
       "0                9              24                11             2015  \n",
       "1                9              24                11             2015  \n",
       "2               23              23                11             2015  \n",
       "3               21              23                11             2015  \n",
       "4               21              23                11             2015  "
      ]
     },
     "execution_count": 57,
     "metadata": {},
     "output_type": "execute_result"
    }
   ],
   "source": [
    "data.head()"
   ]
  },
  {
   "cell_type": "code",
   "execution_count": null,
   "id": "c138766e-754b-48b9-bf96-0d0932c47d22",
   "metadata": {},
   "outputs": [],
   "source": []
  },
  {
   "cell_type": "code",
   "execution_count": null,
   "id": "89d0a4ba-a18e-4593-8f2a-9915a0ba504a",
   "metadata": {},
   "outputs": [],
   "source": []
  },
  {
   "cell_type": "code",
   "execution_count": null,
   "id": "59392904-6862-4bd0-949a-d36debe81434",
   "metadata": {},
   "outputs": [],
   "source": []
  }
 ],
 "metadata": {
  "kernelspec": {
   "display_name": "Python 3",
   "language": "python",
   "name": "python3"
  },
  "language_info": {
   "codemirror_mode": {
    "name": "ipython",
    "version": 3
   },
   "file_extension": ".py",
   "mimetype": "text/x-python",
   "name": "python",
   "nbconvert_exporter": "python",
   "pygments_lexer": "ipython3",
   "version": "3.8.8"
  }
 },
 "nbformat": 4,
 "nbformat_minor": 5
}
